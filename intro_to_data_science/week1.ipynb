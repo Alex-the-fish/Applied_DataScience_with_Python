{
  "nbformat": 4,
  "nbformat_minor": 0,
  "metadata": {
    "colab": {
      "name": "week1",
      "provenance": []
    },
    "kernelspec": {
      "name": "python3",
      "display_name": "Python 3"
    }
  },
  "cells": [
    {
      "cell_type": "markdown",
      "metadata": {
        "id": "sfPSOXh8Tcfx"
      },
      "source": [
        "Part A"
      ]
    },
    {
      "cell_type": "code",
      "metadata": {
        "id": "OIKw0ghoTW3_"
      },
      "source": [
        "import re\r\n",
        "def names():\r\n",
        "    simple_string = \"\"\"Amy is 5 years old, and her sister Mary is 2 years old. \r\n",
        "    Ruth and Peter, their parents, have 3 kids.\"\"\"\r\n",
        "\r\n",
        "    # YOUR CODE HERE\r\n",
        "    name = re.findall('[A-Z][a-z]+',simple_string)\r\n",
        "    return name\r\n",
        "    raise NotImplementedError()"
      ],
      "execution_count": null,
      "outputs": []
    },
    {
      "cell_type": "code",
      "metadata": {
        "id": "KWGTSOBvTf62"
      },
      "source": [
        "assert len(names()) == 4, \"There are four names in the simple_string\""
      ],
      "execution_count": null,
      "outputs": []
    },
    {
      "cell_type": "markdown",
      "metadata": {
        "id": "r6Zodu5FThco"
      },
      "source": [
        "Part B <br>\r\n",
        "The dataset file in assets/grades.txt contains a line separated list of people with their grade in a class. Create a regex to generate a list of just those students who received a B in the course."
      ]
    },
    {
      "cell_type": "markdown",
      "metadata": {
        "id": "XLwjTqZpTsfD"
      },
      "source": [
        "txt basically looks like this: <br>\r\n",
        "Ronald Mayr: A <br>\r\n",
        "Bell Kassulke: B <br>\r\n",
        "Jacqueline Rupp: A <br>\r\n",
        "Alexander Zeller: C <br>\r\n",
        "Valentina Denk: C <br>\r\n",
        "Simon Loidl: B <br>\r\n",
        "Elias Jovanovic: B <br>\r\n",
        "Stefanie Weninger: A <br>\r\n",
        "Fabian Peer: C <br>"
      ]
    },
    {
      "cell_type": "code",
      "metadata": {
        "id": "xLkYjJCUTmHa"
      },
      "source": [
        "import re\r\n",
        "def grades():\r\n",
        "    with open (\"assets/grades.txt\", \"r\") as file:\r\n",
        "        grades = file.read()\r\n",
        "\r\n",
        "    # YOUR CODE HERE\r\n",
        "    \r\n",
        "    students = re.findall('([A-Z]\\w+\\s[A-Z]\\w+):\\sB',grades)\r\n",
        "    return students\r\n",
        "    raise NotImplementedError()"
      ],
      "execution_count": null,
      "outputs": []
    },
    {
      "cell_type": "code",
      "metadata": {
        "id": "2cBNkuJ2TqlX"
      },
      "source": [
        "assert len(grades()) == 16"
      ],
      "execution_count": null,
      "outputs": []
    },
    {
      "cell_type": "markdown",
      "metadata": {
        "id": "aTQFoGmnUFtm"
      },
      "source": [
        "Part C"
      ]
    },
    {
      "cell_type": "code",
      "metadata": {
        "id": "v4jwxF2xUHD5"
      },
      "source": [
        "# Part C\r\n",
        "# Consider the standard web log file in assets/logdata.txt. This file records the access a user makes when visiting a web page (like this one!). Each line of the log has the following items:\r\n",
        "\r\n",
        "# a host (e.g., '146.204.224.152')\r\n",
        "# a user_name (e.g., 'feest6811' note: sometimes the user name is missing! In this case, use '-' as the value for the username.)\r\n",
        "# the time a request was made (e.g., '21/Jun/2019:15:45:24 -0700')\r\n",
        "# the post request type (e.g., 'POST /incentivize HTTP/1.1' note: not everything is a POST!)\r\n",
        "# Your task is to convert this into a list of dictionaries, where each dictionary looks like the following:\r\n",
        "\r\n",
        "# example_dict = {\"host\":\"146.204.224.152\", \r\n",
        "#                 \"user_name\":\"feest6811\", \r\n",
        "#                 \"time\":\"21/Jun/2019:15:45:24 -0700\",\r\n",
        "#                 \"request\":\"POST /incentivize HTTP/1.1\"}"
      ],
      "execution_count": null,
      "outputs": []
    },
    {
      "cell_type": "code",
      "metadata": {
        "id": "b0RQs2nOUaWH"
      },
      "source": [
        ""
      ],
      "execution_count": null,
      "outputs": []
    },
    {
      "cell_type": "markdown",
      "metadata": {
        "id": "3-04fbx8Ua6D"
      },
      "source": [
        "146.204.224.152 - feest6811 [21/Jun/2019:15:45:24 -0700] \"POST /incentivize HTTP/1.1\" 302 4622 <br>\r\n",
        "197.109.77.178 - kertzmann3129 [21/Jun/2019:15:45:25 -0700] \"DELETE /virtual/solutions/target/web+services HTTP/2.0\" 203 26554 <br>\r\n",
        "156.127.178.177 - okuneva5222 [21/Jun/2019:15:45:27 -0700] \"DELETE /interactive/transparent/niches/revolutionize HTTP/1.1\" 416 14701 <br>\r\n",
        "100.32.205.59 - ortiz8891 [21/Jun/2019:15:45:28 -0700] \"PATCH /architectures HTTP/1.0\" 204 6048\r\n"
      ]
    },
    {
      "cell_type": "code",
      "metadata": {
        "id": "2VPUfHZoULhI"
      },
      "source": [
        "import re\r\n",
        "def logs():\r\n",
        "    with open(\"assets/logdata.txt\", \"r\") as file:\r\n",
        "        logdata = file.read()\r\n",
        "    \r\n",
        "    # YOUR CODE HERE\r\n",
        "    data = []\r\n",
        "    regex = re.compile(\r\n",
        "        r'(?P<host>(?:\\d+\\.){1,3}\\d+)\\s+-\\s+'\r\n",
        "        r'(?P<user_name>[\\w+\\-]+)?\\s+'\r\n",
        "        r'\\[(?P<time>[-\\w\\s:/]+)\\]\\s+'\r\n",
        "        r'\"(?P<request>\\w+.+?)\"'\r\n",
        "    )\r\n",
        "\r\n",
        "    for m in regex.finditer(logdata):\r\n",
        "        data.append(m.groupdict())\r\n",
        "    return data\r\n",
        "    raise NotImplementedError()"
      ],
      "execution_count": null,
      "outputs": []
    },
    {
      "cell_type": "code",
      "metadata": {
        "id": "Amn14Pn6UOx0"
      },
      "source": [
        "assert len(logs()) == 979\r\n",
        "\r\n",
        "one_item={'host': '146.204.224.152',\r\n",
        "  'user_name': 'feest6811',\r\n",
        "  'time': '21/Jun/2019:15:45:24 -0700',\r\n",
        "  'request': 'POST /incentivize HTTP/1.1'}\r\n",
        "assert one_item in logs(), \"Sorry, this item should be in the log results, check your formating\"\r\n"
      ],
      "execution_count": null,
      "outputs": []
    }
  ]
}
